{
 "cells": [
  {
   "cell_type": "code",
   "execution_count": 1,
   "metadata": {},
   "outputs": [],
   "source": [
    "import pandas as pd\n",
    "import numpy as np\n",
    "from collections import defaultdict"
   ]
  },
  {
   "cell_type": "code",
   "execution_count": 2,
   "metadata": {},
   "outputs": [],
   "source": [
    "data = pd.read_csv(\"balance.csv\")\n",
    "data.columns = data.iloc[3,:]\n",
    "data = data.drop(data.index[[0,1,2,3]]).reset_index(drop=True)"
   ]
  },
  {
   "cell_type": "markdown",
   "metadata": {},
   "source": [
    "## 总收入"
   ]
  },
  {
   "cell_type": "code",
   "execution_count": 3,
   "metadata": {},
   "outputs": [
    {
     "data": {
      "text/plain": [
       "213025.73"
      ]
     },
     "execution_count": 3,
     "metadata": {},
     "output_type": "execute_result"
    }
   ],
   "source": [
    "# 总收入\n",
    "zongshouru = data[\"收入金额（+元）\"].astype(\"float\").sum() *100 / 100\n",
    "zongshouru"
   ]
  },
  {
   "cell_type": "code",
   "execution_count": 4,
   "metadata": {},
   "outputs": [
    {
     "data": {
      "text/plain": [
       "193024.53"
      ]
     },
     "execution_count": 4,
     "metadata": {},
     "output_type": "execute_result"
    }
   ],
   "source": [
    "# 交易收款-交易收款\n",
    "new_data = data.dropna(subset=['业务描述'])\n",
    "jiaoyishoukuan = new_data[new_data[\"业务描述\"].str.contains(\"交易收款\")][\"收入金额（+元）\"].astype(\"float\").sum()\n",
    "jiaoyishoukuan"
   ]
  },
  {
   "cell_type": "code",
   "execution_count": 5,
   "metadata": {},
   "outputs": [
    {
     "data": {
      "text/plain": [
       "20001.2"
      ]
     },
     "execution_count": 5,
     "metadata": {},
     "output_type": "execute_result"
    }
   ],
   "source": [
    "# 商家红包退回\n",
    "new2 = data.dropna(subset=[\"备注\"])\n",
    "hongbaotuihui = new2[new2[\"备注\"].str.contains(\"红包退回\")][\"收入金额（+元）\"].astype(\"float\").sum()\n",
    "hongbaotuihui"
   ]
  },
  {
   "cell_type": "markdown",
   "metadata": {},
   "source": [
    "## 总支出"
   ]
  },
  {
   "cell_type": "code",
   "execution_count": 6,
   "metadata": {},
   "outputs": [
    {
     "data": {
      "text/plain": [
       "-17305.62"
      ]
     },
     "execution_count": 6,
     "metadata": {},
     "output_type": "execute_result"
    }
   ],
   "source": [
    "# 总支出\n",
    "zongzhichu = data[\"支出金额（-元）\"].astype(\"float\").sum() *100/100\n",
    "zongzhichu"
   ]
  },
  {
   "cell_type": "code",
   "execution_count": 7,
   "metadata": {},
   "outputs": [
    {
     "data": {
      "text/plain": [
       "-4952.699999999999"
      ]
     },
     "execution_count": 7,
     "metadata": {},
     "output_type": "execute_result"
    }
   ],
   "source": [
    "# 网红佣金的支出\n",
    "new_data = data.dropna(subset=['业务描述'])\n",
    "whyongjin = new2[new2[\"备注\"].str.contains(\"网红佣金\")][\"支出金额（-元）\"].astype(\"float\").sum()\n",
    "whyongjin"
   ]
  },
  {
   "cell_type": "code",
   "execution_count": 8,
   "metadata": {},
   "outputs": [
    {
     "data": {
      "text/plain": [
       "-2979.05"
      ]
     },
     "execution_count": 8,
     "metadata": {},
     "output_type": "execute_result"
    }
   ],
   "source": [
    "# 软件服务费-服务费-分期\n",
    "fenqi = new_data[new_data[\"业务描述\"].str.contains(\"分期\")][\"支出金额（-元）\"].astype(\"float\").sum()\n",
    "fenqi"
   ]
  },
  {
   "cell_type": "code",
   "execution_count": 9,
   "metadata": {},
   "outputs": [
    {
     "data": {
      "text/plain": [
       "-1063.3200000000002"
      ]
     },
     "execution_count": 9,
     "metadata": {},
     "output_type": "execute_result"
    }
   ],
   "source": [
    "# 返点积分\n",
    "fandianjifen = new_data[new_data[\"业务描述\"].str.contains(\"返点积分\")][\"支出金额（-元）\"].astype(\"float\").sum()\n",
    "fandianjifen"
   ]
  },
  {
   "cell_type": "code",
   "execution_count": 10,
   "metadata": {},
   "outputs": [
    {
     "data": {
      "text/plain": [
       "-786.51"
      ]
     },
     "execution_count": 10,
     "metadata": {},
     "output_type": "execute_result"
    }
   ],
   "source": [
    "# 软件服务费-服务费\n",
    "fuwufei = new2[new2[\"备注\"].str.contains(\"支付服务费\")][\"支出金额（-元）\"].astype(\"float\").sum()\n",
    "fuwufei"
   ]
  },
  {
   "cell_type": "code",
   "execution_count": 11,
   "metadata": {},
   "outputs": [
    {
     "data": {
      "text/plain": [
       "-7524.04"
      ]
     },
     "execution_count": 11,
     "metadata": {},
     "output_type": "execute_result"
    }
   ],
   "source": [
    "# 软件服务费-佣金\n",
    "pingtaiyongjin = new_data[new_data[\"业务描述\"].str.contains(\"软件服务费\") & new_data[\"业务描述\"].str.contains(\"佣金\")][\"支出金额（-元）\"].astype(\"float\").sum()\n",
    "pingtaiyongjin"
   ]
  },
  {
   "cell_type": "code",
   "execution_count": 12,
   "metadata": {},
   "outputs": [
    {
     "data": {
      "text/plain": [
       "-17305.62"
      ]
     },
     "execution_count": 12,
     "metadata": {},
     "output_type": "execute_result"
    }
   ],
   "source": [
    "whyongjin + fenqi + fandianjifen + fuwufei + pingtaiyongjin"
   ]
  },
  {
   "cell_type": "markdown",
   "metadata": {},
   "source": [
    "## 核对"
   ]
  },
  {
   "cell_type": "markdown",
   "metadata": {},
   "source": [
    "#### 收入"
   ]
  },
  {
   "cell_type": "code",
   "execution_count": 76,
   "metadata": {},
   "outputs": [],
   "source": [
    "service = pd.read_excel(\"service_fee.xlsx\")"
   ]
  },
  {
   "cell_type": "code",
   "execution_count": 18,
   "metadata": {},
   "outputs": [],
   "source": [
    "service.to_csv(\"service.csv\", header = True)"
   ]
  },
  {
   "cell_type": "code",
   "execution_count": 38,
   "metadata": {},
   "outputs": [],
   "source": [
    "service = pd.read_csv(\"service.csv\")\n",
    "data = pd.read_csv(\"balance.csv\")\n",
    "data.columns = data.iloc[3,:]\n",
    "data = data.drop(data.index[[0,1,2,3]]).reset_index(drop=True)"
   ]
  },
  {
   "cell_type": "code",
   "execution_count": 41,
   "metadata": {},
   "outputs": [],
   "source": [
    "dingdan_id = service[\"父订单编号\"].values.astype(str)\n",
    "data[\"业务基础订单号\"] = data[\"业务基础订单号\"].apply(lambda x: x[:-1])\n",
    "data = data.set_index('业务基础订单号')"
   ]
  },
  {
   "cell_type": "code",
   "execution_count": 42,
   "metadata": {},
   "outputs": [],
   "source": [
    "store = defaultdict(int)\n",
    "data[\"收入金额（+元）\"] = data[\"收入金额（+元）\"].astype(float)\n",
    "for i in dingdan_id:\n",
    "    try:\n",
    "        temp = data.loc[i,:]\n",
    "        temp_shouru = temp[\"收入金额（+元）\"].sum()\n",
    "        store[i] = temp_shouru\n",
    "    except KeyError:\n",
    "        store[i] = \"Do not exist\""
   ]
  },
  {
   "cell_type": "code",
   "execution_count": 43,
   "metadata": {},
   "outputs": [],
   "source": [
    "check_shouru = defaultdict(str)\n",
    "service[\"父订单编号\"] = service[\"父订单编号\"].astype(str)\n",
    "new_service = service.set_index(\"父订单编号\")\n",
    "for i in store.keys():\n",
    "    service_fee_temp = new_service.loc[i, :][\"实际成交价格\"]\n",
    "    check_shouru[i] = (store[i] == service_fee_temp)\n",
    "    "
   ]
  },
  {
   "cell_type": "code",
   "execution_count": 105,
   "metadata": {},
   "outputs": [
    {
     "data": {
      "text/plain": [
       "defaultdict(str,\n",
       "            {'1076954400743072025': False,\n",
       "             '596129828744860799': True,\n",
       "             '1073116000093076875': True,\n",
       "             '1073005408984068487': True,\n",
       "             '1084321153766744786': True,\n",
       "             '1073527010421679883': True,\n",
       "             '1086388417778773009': 父订单编号\n",
       "             1086388417778773009    False\n",
       "             1086388417778773009    False\n",
       "             1086388417778773009    False\n",
       "             Name: 实际成交价格, dtype: bool,\n",
       "             '1078061025987387152': True,\n",
       "             '596595333433349696': True,\n",
       "             '605833996150790402': True,\n",
       "             '1077364768438382988': True,\n",
       "             '1077869473737382988': True,\n",
       "             '1073838019192885021': True,\n",
       "             '1076351522963320530': True,\n",
       "             '1078616611464948781': True,\n",
       "             '1074386561412117350': True,\n",
       "             '1075816673369312283': True,\n",
       "             '1076067779825312283': True,\n",
       "             '1075856737417312283': True,\n",
       "             '1073492961853627734': False,\n",
       "             '1072322979891374030': True,\n",
       "             '1074769345611121526': True,\n",
       "             '1088753283548840593': False,\n",
       "             '1086588867660966622': True,\n",
       "             '1086842435983542558': True,\n",
       "             '1073496802407477536': True,\n",
       "             '1073549825014216355': True,\n",
       "             '1077908802458718291': True,\n",
       "             '606172239243354101': False,\n",
       "             '1075866305288810207': False,\n",
       "             '1044502240772260624': True,\n",
       "             '1075481120871751992': False,\n",
       "             '605958892353216603': False,\n",
       "             '1078423587512355231': 父订单编号\n",
       "             1078423587512355231    False\n",
       "             1078423587512355231    False\n",
       "             1078423587512355231    False\n",
       "             Name: 实际成交价格, dtype: bool,\n",
       "             '1073670563699131224': True,\n",
       "             '1073512578157616841': True,\n",
       "             '1081717666706521040': True,\n",
       "             '606289103965875801': True,\n",
       "             '606056844585119804': False,\n",
       "             '1081103232515537873': True,\n",
       "             '1073603905903880153': True,\n",
       "             '1077566592059728690': True,\n",
       "             '1078116098734085850': True,\n",
       "             '1080808642600794231': True,\n",
       "             '1073718819653994154': True,\n",
       "             '597205223426415898': True,\n",
       "             '1079406048364453636': True})"
      ]
     },
     "execution_count": 105,
     "metadata": {},
     "output_type": "execute_result"
    }
   ],
   "source": [
    "check_shouru"
   ]
  },
  {
   "cell_type": "markdown",
   "metadata": {},
   "source": [
    "#### 网红佣金"
   ]
  },
  {
   "cell_type": "code",
   "execution_count": 101,
   "metadata": {},
   "outputs": [],
   "source": [
    "service = pd.read_csv(\"service.csv\")\n",
    "data = pd.read_csv(\"balance.csv\")\n",
    "data.columns = data.iloc[3,:]\n",
    "data = data.drop(data.index[[0,1,2,3]]).reset_index(drop=True)"
   ]
  },
  {
   "cell_type": "code",
   "execution_count": 102,
   "metadata": {},
   "outputs": [
    {
     "name": "stderr",
     "output_type": "stream",
     "text": [
      "/anaconda3/lib/python3.7/site-packages/ipykernel_launcher.py:3: SettingWithCopyWarning: \n",
      "A value is trying to be set on a copy of a slice from a DataFrame.\n",
      "Try using .loc[row_indexer,col_indexer] = value instead\n",
      "\n",
      "See the caveats in the documentation: https://pandas.pydata.org/pandas-docs/stable/user_guide/indexing.html#returning-a-view-versus-a-copy\n",
      "  This is separate from the ipykernel package so we can avoid doing imports until\n"
     ]
    }
   ],
   "source": [
    "data = data.dropna(subset=[\"备注\"])\n",
    "temp_data = data[data[\"备注\"].str.contains(\"网红佣金代扣\")]\n",
    "temp_data[\"id\"] = data[\"备注\"].apply(lambda x: x[8:-1])\n",
    "temp_data = temp_data.set_index(\"id\")"
   ]
  },
  {
   "cell_type": "code",
   "execution_count": 103,
   "metadata": {},
   "outputs": [],
   "source": [
    "check_wanghong = defaultdict(int)\n",
    "count = 0\n",
    "service[\"子订单编号\"] = service[\"子订单编号\"].astype(str)\n",
    "zidingdan = service[\"子订单编号\"].values\n",
    "new_service = service.set_index(\"子订单编号\")\n",
    "for i in zidingdan:\n",
    "    count+=1\n",
    "    try:\n",
    "        temp1 = -new_service.loc[i,\"佣金\"]\n",
    "        temp2 = float(temp_data.loc[i, \"支出金额（-元）\"])\n",
    "        check_wanghong[i] = (temp1 == temp2)\n",
    "    except KeyError:\n",
    "        check_wanghong[i] = False"
   ]
  },
  {
   "cell_type": "code",
   "execution_count": 104,
   "metadata": {},
   "outputs": [
    {
     "data": {
      "text/plain": [
       "defaultdict(int,\n",
       "            {'1076954400743072025': True,\n",
       "             '596129828744860799': True,\n",
       "             '1073116000093076875': True,\n",
       "             '1073005408984068487': True,\n",
       "             '1084321153766744786': True,\n",
       "             '1073527010421679883': True,\n",
       "             '1086388417781773009': 子订单编号\n",
       "             1086388417781773009    True\n",
       "             1086388417781773009    True\n",
       "             Name: 佣金, dtype: bool,\n",
       "             '1078061025987387152': True,\n",
       "             '596595333433349696': False,\n",
       "             '605833996150790402': True,\n",
       "             '1077364768438382988': True,\n",
       "             '1077869473737382988': True,\n",
       "             '1073838019192885021': True,\n",
       "             '1076351522964320530': True,\n",
       "             '1078616611464948781': False,\n",
       "             '1074386561412117350': True,\n",
       "             '1075816673369312283': True,\n",
       "             '1076067779825312283': True,\n",
       "             '1075856737417312283': True,\n",
       "             '1073492961853627734': False,\n",
       "             '1072322979891374030': True,\n",
       "             '1074769345611121526': True,\n",
       "             '1088753283548840593': True,\n",
       "             '1086588867660966622': True,\n",
       "             '1086842435983542558': True,\n",
       "             '1073496802407477536': True,\n",
       "             '1073549825014216355': True,\n",
       "             '1077908802458718291': True,\n",
       "             '606172239244354101': True,\n",
       "             '1075866305289810207': True,\n",
       "             '1044502240772260624': True,\n",
       "             '1075481120872751992': True,\n",
       "             '605958892354216603': True,\n",
       "             '1078423587515355231': False,\n",
       "             '1078423587513355231': False,\n",
       "             '1078423587514355231': False,\n",
       "             '1073670563699131224': True,\n",
       "             '1073512578157616841': True,\n",
       "             '1081717666706521040': True,\n",
       "             '606289103965875801': True,\n",
       "             '606056844586119804': True,\n",
       "             '1081103232515537873': True,\n",
       "             '1073603905903880153': True,\n",
       "             '1077566592059728690': False,\n",
       "             '1078116098734085850': False,\n",
       "             '1080808642600794231': True,\n",
       "             '1073718819653994154': True,\n",
       "             '597205223426415898': True,\n",
       "             '1079406048365453636': True,\n",
       "             '1086388417779773009': True})"
      ]
     },
     "execution_count": 104,
     "metadata": {},
     "output_type": "execute_result"
    }
   ],
   "source": [
    "check_wanghong"
   ]
  },
  {
   "cell_type": "markdown",
   "metadata": {},
   "source": [
    "1073492961853627734: not found\n"
   ]
  },
  {
   "cell_type": "code",
   "execution_count": null,
   "metadata": {},
   "outputs": [],
   "source": []
  }
 ],
 "metadata": {
  "kernelspec": {
   "display_name": "Python 3",
   "language": "python",
   "name": "python3"
  },
  "language_info": {
   "codemirror_mode": {
    "name": "ipython",
    "version": 3
   },
   "file_extension": ".py",
   "mimetype": "text/x-python",
   "name": "python",
   "nbconvert_exporter": "python",
   "pygments_lexer": "ipython3",
   "version": "3.7.3"
  }
 },
 "nbformat": 4,
 "nbformat_minor": 2
}
